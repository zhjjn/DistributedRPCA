{
 "cells": [
  {
   "cell_type": "code",
   "execution_count": null,
   "metadata": {
    "collapsed": true
   },
   "outputs": [],
   "source": [
    "from sklearn.base import BaseEstimator, TransformerMixin\n",
    "\n",
    "class MyTransformer(BaseEstimator, TransformerMixin):\n",
    "    def __init__(self, first_paramter=1, second_parameter=2):\n",
    "        # all parameters must be specified in the __init__ function\n",
    "        self.first_paramter = 1\n",
    "        self.second_parameter = 2\n",
    "        \n",
    "    def fit(self, X, y=None):\n",
    "        # fit should only take X and y as parameters\n",
    "        # even if your model is unsupervised, you need to accept a y argument!\n",
    "        \n",
    "        # Model fitting code goes here\n",
    "        print(\"fitting the model right here\")\n",
    "        # fit returns self\n",
    "        return self\n",
    "    \n",
    "    def transform(self, X):\n",
    "        # transform takes as parameter only X\n",
    "        \n",
    "        # apply some transformation to X:\n",
    "        X_transformed = X + 1\n",
    "        return X_transformed\n"
   ]
  },
  {
   "cell_type": "code",
   "execution_count": null,
   "metadata": {
    "collapsed": true
   },
   "outputs": [],
   "source": []
  },
  {
   "cell_type": "code",
   "execution_count": null,
   "metadata": {
    "collapsed": false
   },
   "outputs": [],
   "source": [
    "from sklearn.utils.validation import check_X_y\n",
    "\n",
    "class MyEstimator(object):\n",
    "    def __init__(self, my_parameter=\"stuff\"):\n",
    "        self.my_parameter = my_parameter\n",
    "    def fit(self, X, y):\n",
    "        X, y = check_X_y(X, y)\n",
    "        return self\n",
    "    def set_params(self, **kwargs):\n",
    "        for key, value in kwargs:\n",
    "            if key == \"parameter\":\n",
    "                self.my_parameter = my_parameter\n",
    "            else:\n",
    "                raise ValueError(\"Unknown parameter %s\" % key)\n",
    "        return self\n",
    "    def get_params(self, deep=None):\n",
    "        return {'my_parameter': self.my_parameter}"
   ]
  },
  {
   "cell_type": "code",
   "execution_count": null,
   "metadata": {
    "collapsed": false
   },
   "outputs": [],
   "source": [
    "est = MyEstimator(my_parameter=\"bla\")\n",
    "print(est)             "
   ]
  },
  {
   "cell_type": "code",
   "execution_count": null,
   "metadata": {
    "collapsed": true
   },
   "outputs": [],
   "source": [
    "from sklearn.utils.estimator_checks import check_estimator\n",
    "check_estimator(MyEstimator)"
   ]
  },
  {
   "cell_type": "code",
   "execution_count": null,
   "metadata": {
    "collapsed": false
   },
   "outputs": [],
   "source": [
    "from sklearn.utils.validation import check_X_y, check_array\n",
    "\n",
    "class MyBrokenEstimator(object):\n",
    "    def __init__(self, my_parameter=\"stuff\"):\n",
    "        self.my_parameter = my_parameter + \" more stuff\"\n",
    "    def fit(self, X, y):\n",
    "        X, y = check_X_y(X, y)\n",
    "        return self\n",
    "    def set_params(self, **kwargs):\n",
    "        for key, value in kwargs:\n",
    "            if key == \"parameter\":\n",
    "                self.my_parameter = my_parameter\n",
    "            else:\n",
    "                raise ValueError(\"Unknown parameter %s\" % key)\n",
    "        return self\n",
    "    def get_params(self, deep=None):\n",
    "        return {'my_parameter': self.my_parameter}"
   ]
  },
  {
   "cell_type": "code",
   "execution_count": null,
   "metadata": {
    "collapsed": false
   },
   "outputs": [],
   "source": [
    "check_estimator(MyBrokenEstimator)"
   ]
  },
  {
   "cell_type": "code",
   "execution_count": null,
   "metadata": {
    "collapsed": true
   },
   "outputs": [],
   "source": [
    "from sklearn.base import BaseEstimator\n",
    "\n",
    "class MyInheritingEstimator(BaseEstimator):\n",
    "    def __init__(self, my_parameter=\"stuff\"):\n",
    "        self.my_parameter = my_parameter\n",
    "    def fit(self, X, y):\n",
    "        X, y = check_X_y(X, y)\n",
    "        return self"
   ]
  },
  {
   "cell_type": "code",
   "execution_count": null,
   "metadata": {
    "collapsed": false
   },
   "outputs": [],
   "source": [
    "est = MyInheritingEstimator(my_parameter=\"bla\")\n",
    "print(est)         "
   ]
  },
  {
   "cell_type": "code",
   "execution_count": null,
   "metadata": {
    "collapsed": true
   },
   "outputs": [],
   "source": [
    "check_estimator(MyInheritingEstimator)"
   ]
  },
  {
   "cell_type": "code",
   "execution_count": null,
   "metadata": {
    "collapsed": true
   },
   "outputs": [],
   "source": [
    "from sklearn.base import TransformerMixin\n",
    "class MyTransformer(BaseEstimator, TransformerMixin):\n",
    "    def __init__(self, my_parameter=\"stuff\"):\n",
    "        self.my_parameter = my_parameter\n",
    "    def fit(self, X, y):\n",
    "        X, y = check_X_y(X, y)\n",
    "        self.n_features_ = X.shape[1]\n",
    "        return self\n",
    "    def transform(self, X):\n",
    "        X = check_array(X)\n",
    "        if X.shape[1] != self.n_features_:\n",
    "            raise ValueError(\"lol wat\")\n",
    "        return X - 2"
   ]
  },
  {
   "cell_type": "code",
   "execution_count": null,
   "metadata": {
    "collapsed": false
   },
   "outputs": [],
   "source": [
    "check_estimator(MyTransformer)"
   ]
  },
  {
   "cell_type": "code",
   "execution_count": null,
   "metadata": {
    "collapsed": false
   },
   "outputs": [],
   "source": [
    "import numpy as np\n",
    "from sklearn.base import ClassifierMixin\n",
    "\n",
    "class MyBrokenClassifier(BaseEstimator, ClassifierMixin):\n",
    "    def __init__(self, my_parameter=\"stuff\"):\n",
    "        self.my_parameter = my_parameter\n",
    "    def fit(self, X, y):\n",
    "        X, y = check_X_y(X, y)\n",
    "        return self\n",
    "    def predict(self, X):\n",
    "        X = check_array(X)\n",
    "        return np.array([1, 2])"
   ]
  },
  {
   "cell_type": "code",
   "execution_count": null,
   "metadata": {
    "collapsed": false
   },
   "outputs": [],
   "source": [
    "check_estimator(MyBrokenClassifier)"
   ]
  },
  {
   "cell_type": "code",
   "execution_count": null,
   "metadata": {
    "collapsed": false
   },
   "outputs": [],
   "source": [
    "from sklearn.metrics import euclidean_distances\n",
    "from sklearn.utils.multiclass import unique_labels\n",
    "from sklearn.utils.validation import check_is_fitted\n",
    "\n",
    "class MyClassifier(BaseEstimator, ClassifierMixin):\n",
    "    def __init__(self, my_parameter=\"stuff\"):\n",
    "        self.my_parameter = my_parameter\n",
    "        \n",
    "    def fit(self, X, y):\n",
    "        X, y = check_X_y(X, y)\n",
    "        self.classes_ = unique_labels(y)\n",
    "        self.X_ = X\n",
    "        self.y_ = y\n",
    "        return self\n",
    "    \n",
    "    def predict(self, X):\n",
    "        check_is_fitted(self, [\"X_\", \"y_\"])\n",
    "        X = check_array(X)\n",
    "        closest = np.argmin(euclidean_distances(X, self.X_), axis=1)\n",
    "        return self.y_[closest]"
   ]
  },
  {
   "cell_type": "code",
   "execution_count": null,
   "metadata": {
    "collapsed": false
   },
   "outputs": [],
   "source": [
    "check_estimator(MyClassifier)"
   ]
  }
 ],
 "metadata": {
  "kernelspec": {
   "display_name": "Python 3",
   "language": "python",
   "name": "python3"
  },
  "language_info": {
   "codemirror_mode": {
    "name": "ipython",
    "version": 3
   },
   "file_extension": ".py",
   "mimetype": "text/x-python",
   "name": "python",
   "nbconvert_exporter": "python",
   "pygments_lexer": "ipython3",
   "version": "3.5.1"
  }
 },
 "nbformat": 4,
 "nbformat_minor": 0
}
